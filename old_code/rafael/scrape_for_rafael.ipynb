{
 "cells": [
  {
   "cell_type": "markdown",
   "metadata": {},
   "source": [
    "### to scrape:\n",
    "- Trends in CogSci\n",
    "- DONE Topics in CogSci\n",
    "- Cognition\n",
    "- Proceedings to CogSci\n",
    "- DONE ARTHUR Cognitive Science"
   ]
  },
  {
   "cell_type": "code",
   "execution_count": 1,
   "metadata": {
    "collapsed": false
   },
   "outputs": [],
   "source": [
    "%matplotlib inline\n",
    "import matplotlib.pyplot as plt\n",
    "plt.style.use('seaborn-colorblind')\n",
    "plt.rcParams['image.cmap'] = 'RdBu'\n",
    "import numpy as np\n",
    "# Import custom code\n",
    "import csv\n",
    "from bs4 import BeautifulSoup\n",
    "import urllib\n",
    "import re\n",
    "import string"
   ]
  },
  {
   "cell_type": "markdown",
   "metadata": {},
   "source": [
    "### scraping Topics in CogSci"
   ]
  },
  {
   "cell_type": "code",
   "execution_count": 177,
   "metadata": {
    "collapsed": false
   },
   "outputs": [],
   "source": [
    "#collect all issue links\n",
    "all_issues_url = []\n",
    "for year in range(2009,2017):\n",
    "    landing_url = urllib.urlopen('http://onlinelibrary.wiley.com/journal/10.1111/(ISSN)1756-8765/issues?year='+str(year)).read()\n",
    "    soup = BeautifulSoup(landing_url, 'html.parser')\n",
    "    issues = soup.find_all(\"span\", {\"class\": \"issue-number\"})\n",
    "    for issue in issues:\n",
    "        all_issues_url.append('http://onlinelibrary.wiley.com' + str(issue.find(\"a\")['href']))\n",
    "\n",
    "#collect all article links\n",
    "all_article_url = []\n",
    "all_year = []\n",
    "for issue in all_issues_url:\n",
    "    soup = BeautifulSoup(urllib.urlopen(issue), 'html.parser')\n",
    "    articles = soup.find_all(\"div\", {\"class\": 'citation tocArticle'})\n",
    "    for article in articles:\n",
    "        all_article_url.append('http://onlinelibrary.wiley.com'+article.find_all(\"a\")[0]['href'])\n",
    "        all_year.append(issue[48:52])"
   ]
  },
  {
   "cell_type": "code",
   "execution_count": 144,
   "metadata": {
    "collapsed": false,
    "scrolled": true
   },
   "outputs": [
    {
     "name": "stdout",
     "output_type": "stream",
     "text": [
      "10\n",
      "20\n",
      "30\n",
      "40\n",
      "50\n",
      "60\n",
      "70\n",
      "80\n",
      "90\n",
      "100\n",
      "110\n",
      "120\n",
      "130\n",
      "140\n",
      "150\n",
      "160\n",
      "170\n",
      "180\n",
      "190\n",
      "200\n",
      "210\n",
      "220\n",
      "230\n",
      "240\n",
      "250\n",
      "260\n",
      "270\n",
      "280\n",
      "290\n",
      "300\n",
      "310\n",
      "320\n",
      "330\n",
      "340\n",
      "350\n",
      "360\n",
      "370\n",
      "380\n",
      "390\n",
      "400\n",
      "410\n",
      "420\n",
      "430\n",
      "440\n",
      "450\n"
     ]
    }
   ],
   "source": [
    "# collect information from article links\n",
    "all_authors = []\n",
    "all_affli = []\n",
    "cnt = 0\n",
    "for article in all_article_url:\n",
    "    soup = BeautifulSoup(urllib.urlopen(article), 'html.parser')\n",
    "    author_ele = soup.find_all('h3', {'class': 'article-header__authors-name'})\n",
    "    affli_ele = soup.find_all('ol', {'class': 'article-header__authors-item-aff-addr'})\n",
    "    authors = [cur_aut.text.split(',')[0].encode('utf-8') for cur_aut in author_ele]\n",
    "    affli = [cur_aff.text.encode('utf-8') for cur_aff in affli_ele]\n",
    "    all_authors.append(authors)\n",
    "    all_affli.append(affli)\n",
    "    cnt+=1\n",
    "    if not np.mod(cnt,15):\n",
    "        print cnt/450.,"
   ]
  },
  {
   "cell_type": "code",
   "execution_count": 187,
   "metadata": {
    "collapsed": false
   },
   "outputs": [],
   "source": [
    "with open('topiCS_authors.csv', 'wb') as csvfile:\n",
    "    writer = csv.writer(csvfile, delimiter=',')\n",
    "    for author in all_authors:\n",
    "        if author != []:\n",
    "            writer.writerow(author)\n",
    "\n",
    "with open('topiCS_affiliations.csv', 'wb') as csvfile:\n",
    "    writer = csv.writer(csvfile, delimiter=',')\n",
    "    for idx, affli in enumerate(all_affli):\n",
    "        if affli != []:\n",
    "            row = [all_year[idx]]\n",
    "            for aff in affli:\n",
    "                row.append(aff.lstrip())\n",
    "            \n",
    "            writer.writerow(row)"
   ]
  },
  {
   "cell_type": "markdown",
   "metadata": {},
   "source": [
    "### Scrape MIT BCS"
   ]
  },
  {
   "cell_type": "code",
   "execution_count": 54,
   "metadata": {
    "collapsed": false
   },
   "outputs": [
    {
     "name": "stdout",
     "output_type": "stream",
     "text": [
      " Adelson, Edward ... Bear, Mark ... Bizzi, Emilio ... Boyden, Ed ... Brown, Emery ... Choi, Gloria ... Chung, Kwanghun ... Constantine-Paton, Martha ... Desimone, Robert ... DiCarlo, James ... Fee, Michale ... Feng, Guoping ... Flavell, Steven ... Gabrieli, John ... Gibson, Ted ... Graybiel, Ann ... Harnett, Mark ... Heiman, Myriam ... Hein, Alan ... Held, Richard ... Hockfield, Susan ... Hogan, Neville ... Horvitz, H. Robert ... Jasanoff, Alan ... Jazayeri, Mehrdad ... Kanwisher, Nancy ... Levy, Roger ... Lin, Yingxi ... Littleton, Troy ... McDermott, Josh ... Miller, Earl ... Nedivi, Elly ... Poggio, Tomaso ... Potter, Mary ... Prelec, Drazen ... Quinn, William ... Rokers, Bas ... Rosasco, Lorenzo ... No Pubs. Saxe, Rebecca ... Schiller, Peter ... Schneider, Gerald ... Schulz, Laura ... Sinha, Pawan ... Slotine, Jean-Jacques ... Sur, Mriganka ... Tenenbaum, Joshua ... Tonegawa, Susumu ... Tsai, Li-Huei ... Tye, Kay ... Ullman, Shimon ... Wexler, Ken ... Wilson, Matt ... Wurtman, Richard ... Xu, Weifeng ... Zhang, Feng ...\n"
     ]
    }
   ],
   "source": [
    "# get MIT BCS faculty and pages\n",
    "landing_url = 'https://bcs.mit.edu/our-faculty'\n",
    "soup = BeautifulSoup(urllib.urlopen(landing_url), 'html.parser')\n",
    "PI_objs = soup.find_all('div', {'class': 'field user-full-name-link'})\n",
    "all_PI = [obj.text.encode('utf-8') for obj in PI_objs]\n",
    "all_links = ['https://bcs.mit.edu'+obj.find('a')['href'].encode('utf-8') for obj in PI_objs]\n",
    "\n",
    "#get condensed publication list\n",
    "all_pubs = []\n",
    "for idx, link in enumerate(all_links):\n",
    "    print all_PI[idx], '...',\n",
    "    soup = BeautifulSoup(urllib.urlopen(link), 'html.parser')\n",
    "    pubs_obj = soup.find('div', {'class': 'field field-name-field-publications field-type-text-long field-label-hidden view-mode-full'})\n",
    "    if pubs_obj is not None:\n",
    "        pubs = pubs_obj.find_all('p')\n",
    "        all_pubs.append([pub.text.encode('utf-8') for pub in pubs])\n",
    "    else:\n",
    "        all_pubs.append([])\n",
    "        print 'No Pubs.',"
   ]
  },
  {
   "cell_type": "code",
   "execution_count": 61,
   "metadata": {
    "collapsed": false
   },
   "outputs": [],
   "source": [
    "with open('MIT_BCS.csv', 'wb') as csvfile:\n",
    "    writer = csv.writer(csvfile, delimiter=',')\n",
    "    for idx, PI in enumerate(all_PI):\n",
    "        row = [PI]\n",
    "        for pub in all_pubs[idx]:\n",
    "            row.append(pub)\n",
    "        writer.writerow(row)\n"
   ]
  },
  {
   "cell_type": "markdown",
   "metadata": {},
   "source": [
    "### scrape Rochester BCS"
   ]
  },
  {
   "cell_type": "code",
   "execution_count": 2,
   "metadata": {
    "collapsed": false
   },
   "outputs": [],
   "source": [
    "landing_url = 'http://www.sas.rochester.edu/bcs/people/faculty/index.html'\n",
    "soup = BeautifulSoup(urllib.urlopen(landing_url), 'html.parser')\n",
    "PI_objs = soup.find_all('h4')\n",
    "all_PI = [obj.text.rstrip().encode('utf-8') for obj in PI_objs]\n"
   ]
  },
  {
   "cell_type": "code",
   "execution_count": 3,
   "metadata": {
    "collapsed": false
   },
   "outputs": [],
   "source": [
    "all_links = []\n",
    "for obj in PI_objs:\n",
    "    if obj.find('a') is not None:\n",
    "        all_links.append('http://www.sas.rochester.edu/bcs/people/faculty/'+obj.find('a')['href'].encode('utf-8'))\n",
    "    else:\n",
    "        all_links.append('')"
   ]
  },
  {
   "cell_type": "code",
   "execution_count": 11,
   "metadata": {
    "collapsed": false
   },
   "outputs": [
    {
     "name": "stdout",
     "output_type": "stream",
     "text": [
      "0\n",
      "1\n"
     ]
    }
   ],
   "source": [
    "for idx_link, link in enumerate(all_links[:2]):\n",
    "    if link is not '':\n",
    "        soup = BeautifulSoup(urllib.urlopen(link), 'html.parser')\n",
    "        headers = soup.find_all('h3')\n",
    "        if headers is not []:\n",
    "            for idx_hdr, hdr in enumerate(headers):\n",
    "                if hdr.text == 'Selected Publications':\n",
    "                    print idx_hdr"
   ]
  },
  {
   "cell_type": "code",
   "execution_count": 15,
   "metadata": {
    "collapsed": false
   },
   "outputs": [
    {
     "data": {
      "text/plain": [
       "[<ul class=\"title-area show-for-small-only\"><li class=\"name\"><h1><a href=\"/bcs/index.html\">Home</a></h1></li><li class=\"has-form\"><form action=\"http://www.rochester.edu/college/search/\" id=\"search\"><input name=\"cx\" type=\"hidden\" value=\"009288150455229766548:c2f8fereqgm\"/><input name=\"cof\" type=\"hidden\" value=\"FORID:10\"/><input name=\"ie\" type=\"hidden\" value=\"UTF-8\"/><div class=\"row collapse\"><div class=\"small-10 columns\"><input accesskey=\"?\" class=\"search_box\" id=\"search\" name=\"q\" onfocus=\"this.value=''\" placeholder=\"SEARCH ROCHESTER.EDU\" type=\"text\" value=\"SEARCH ROCHESTER.EDU\"/></div><div class=\"small-2 columns\"><input class=\"button\" type=\"submit\" value=\"Go\"/></div></div></form></li><li class=\"toggle-topbar menu-icon\"><a href=\"#\">Menu</a></li></ul>,\n",
       " <ul><li><a href=\"/bcs/index.html\"><img alt=\"HOME\" class=\"home-icon\" src=\"//www.rochester.edu/college/assets/cinnamon/images/icons/home.png\"/><span class=\"show-for-small-only\">Home</span></a></li><li class=\"divider\"></li><li class=\"has-dropdown\"><a href=\"/bcs/about/index.html\">About Us</a><ul class=\"dropdown\"><li><a href=\"/bcs/about/index.html\">Overview</a></li><li><a href=\"/bcs/jobs/index.html\">Employment</a></li><li><a href=\"/bcs/about/contact.html\">Contact Us</a></li></ul></li><li class=\"divider\"></li><li class=\"has-dropdown\"><a href=\"/bcs/people/index.html\">People</a><ul class=\"dropdown\"><li><a href=\"/bcs/people/faculty/index.html\">Primary Faculty</a></li><li><a href=\"/bcs/people/faculty-secondary/index.html\">Secondary Faculty</a></li><li><a href=\"/bcs/people/faculty-emeritus/index.html\">Emeritus Faculty</a></li><li><a href=\"/bcs/people/postdoc/index.html\">Postdocs</a></li><li><a href=\"/bcs/people/students/index.html\">Graduate Students</a></li><li><a href=\"/bcs/people/staff/index.html\">BCS Staff</a></li><li><a href=\"/bcs/people/index.html\">Full Directory</a></li></ul></li><li class=\"divider\"></li><li class=\"has-dropdown\"><a href=\"/bcs/undergraduate/index.html\">Undergraduate</a><ul class=\"dropdown\"><li><a href=\"/bcs/undergraduate/index.html\">Overview</a></li><li><a href=\"/bcs/undergraduate/overview.html\">BCS Major</a></li><li><a href=\"/bcs/neuro/index.html\">Neuroscience Major</a></li><li><a href=\"/bcs/undergraduate/minors.html\">Minors and Clusters</a></li><li><a href=\"/bcs/undergraduate/courses.html\">Courses</a></li><li><a href=\"/bcs/undergraduate/independent.html\">Undergraduate Research</a></li><li><a href=\"/bcs/undergraduate/abroad.html\">Study Abroad</a></li><li><a href=\"/bcs/undergraduate/lifeafterbcs.html\">Career Paths</a></li></ul></li><li class=\"divider\"></li><li class=\"has-dropdown\"><a href=\"/bcs/graduate/index.html\">Graduate</a><ul class=\"dropdown\"><li><a href=\"/bcs/graduate/index.html\">Overview</a></li><li><a href=\"/bcs/graduate/curriculum.html\">PhD Program</a></li><li><a href=\"/bcs/graduate/current.html\">Current Students</a></li><li><a href=\"/bcs/graduate/courses.html\">Courses</a></li><li><a href=\"/bcs/graduate/students.html\">Student Perspectives</a></li><li><a href=\"/bcs/graduate/alumni.html\">Alumni</a></li><li><a href=\"/bcs/graduate/funding.html\">Funding and Financial Support</a></li><li><a href=\"/bcs/graduate/admission.html\">Applying</a></li></ul></li><li class=\"divider\"></li><li class=\"has-dropdown\"><a href=\"/bcs/research/index.html\">Research</a><ul class=\"dropdown\"><li><a href=\"/bcs/research/index.html\">Overview</a></li><li><a href=\"/bcs/research/areas.html\">Research Areas</a></li><li><a href=\"/bcs/research/approaches.html\">Research Approaches</a></li><li><a href=\"/bcs/research/centers.html\">Associated Departments &amp; Centers</a></li></ul></li><li class=\"divider\"></li><li><a href=\"/bcs/news/index.html\">News</a></li><li class=\"divider\"></li><li><a href=\"http://calendar.bcs.rochester.edu/bcs_events\">Events</a></li></ul>,\n",
       " <ul class=\"dropdown\"><li><a href=\"/bcs/about/index.html\">Overview</a></li><li><a href=\"/bcs/jobs/index.html\">Employment</a></li><li><a href=\"/bcs/about/contact.html\">Contact Us</a></li></ul>,\n",
       " <ul class=\"dropdown\"><li><a href=\"/bcs/people/faculty/index.html\">Primary Faculty</a></li><li><a href=\"/bcs/people/faculty-secondary/index.html\">Secondary Faculty</a></li><li><a href=\"/bcs/people/faculty-emeritus/index.html\">Emeritus Faculty</a></li><li><a href=\"/bcs/people/postdoc/index.html\">Postdocs</a></li><li><a href=\"/bcs/people/students/index.html\">Graduate Students</a></li><li><a href=\"/bcs/people/staff/index.html\">BCS Staff</a></li><li><a href=\"/bcs/people/index.html\">Full Directory</a></li></ul>,\n",
       " <ul class=\"dropdown\"><li><a href=\"/bcs/undergraduate/index.html\">Overview</a></li><li><a href=\"/bcs/undergraduate/overview.html\">BCS Major</a></li><li><a href=\"/bcs/neuro/index.html\">Neuroscience Major</a></li><li><a href=\"/bcs/undergraduate/minors.html\">Minors and Clusters</a></li><li><a href=\"/bcs/undergraduate/courses.html\">Courses</a></li><li><a href=\"/bcs/undergraduate/independent.html\">Undergraduate Research</a></li><li><a href=\"/bcs/undergraduate/abroad.html\">Study Abroad</a></li><li><a href=\"/bcs/undergraduate/lifeafterbcs.html\">Career Paths</a></li></ul>,\n",
       " <ul class=\"dropdown\"><li><a href=\"/bcs/graduate/index.html\">Overview</a></li><li><a href=\"/bcs/graduate/curriculum.html\">PhD Program</a></li><li><a href=\"/bcs/graduate/current.html\">Current Students</a></li><li><a href=\"/bcs/graduate/courses.html\">Courses</a></li><li><a href=\"/bcs/graduate/students.html\">Student Perspectives</a></li><li><a href=\"/bcs/graduate/alumni.html\">Alumni</a></li><li><a href=\"/bcs/graduate/funding.html\">Funding and Financial Support</a></li><li><a href=\"/bcs/graduate/admission.html\">Applying</a></li></ul>,\n",
       " <ul class=\"dropdown\"><li><a href=\"/bcs/research/index.html\">Overview</a></li><li><a href=\"/bcs/research/areas.html\">Research Areas</a></li><li><a href=\"/bcs/research/approaches.html\">Research Approaches</a></li><li><a href=\"/bcs/research/centers.html\">Associated Departments &amp; Centers</a></li></ul>,\n",
       " <ul><li><a href=\"http://www2.bcs.rochester.edu/sites/rmc/Chapman_et_al_2016.pdf\">Chapman RM, Gardner MN, Mapstone M, Klorman R, Porsteinsson AP, Dupree HM,\\xa0Antonsdottir IM, Kamalyan L (2016)</a>. ERP C250 shows the elderly (cognitively normal,\\xa0Alzheimer's disease) store more stimuli in short-term memory than Young Adults\\xa0do. Clin Neurophysiol. 2016 Jun;127(6):2423-35. doi:10.1016/j.clinph.2016.03.006.</li><li><a href=\"http://www2.bcs.rochester.edu/sites/rmc/Chapman_et_al_2015_BR.pdf\">Chapman, Robert M., Gardner, Margaret N., Mapstone, Mark, Dupree, Haley M., &amp; Antonsdottir, Inga M. (2015)</a>. Memory timeline: Brain ERP C250 (not P300) as a biomarker of short-term storage. Brain Research, 1604, 74-83. doi: 10.1016/j.brainres.2015.01.038 NIHMS: 666693.</li><li><a href=\"http://www2.bcs.rochester.edu/sites/rmc/Chapman_et_al_2013_JAD.pdf\">Chapman, Robert M., Porsteinsson, Anton P., Gardner, Margaret N., Mapstone, Mark, McCrary, John W., Sandoval, Tiffany C., Guillily, Maria D., DeGrush, Elizabeth, &amp; Reilly, Lindsey A. (2013)</a>. C145 as a short-latency electrophysiological index of cognitive compensation in Alzheimer's disease. Journal of Alzheimer's Disease, 33(1), 55-68. doi: 10.3233/JAD-2012-120646 PMCID: PMC22886016 NIHMS: NIHMS409260.</li><li><a href=\"http://www2.bcs.rochester.edu/sites/rmc/Chapman2011_JINS.pdf\">Chapman, Robert M., Mapstone, Mark, Gardner, Margaret N., Sandoval, Tiffany C., McCrary, John W., Guillily, Maria D., Reilly, Lindsey A., &amp; DeGrush, Elizabeth. (2011)</a>. Women have farther to fall: Gender differences between normal elderly and Alzheimer's disease in verbal memory engender better detection of AD in women. Journal of the International Neuropsychological Society, 17, 654-662. doi: 10.1017/S1355617711000452 PMCID: PMC3387297 NIHMS: NIHMS355450.</li><li><a href=\"http://www2.bcs.rochester.edu/sites/rmc/Chapman2011_NA.pdf\">Chapman, R. M., McCrary, J. W., Gardner, M. N., Sandoval, T. C., Guillily, M. D., Reilly, L. A., &amp; DeGrush, E. (2011)</a>. Brain ERP components predict which individuals progress to Alzheimer's disease and which do not. Neurobiology of Aging, 32, 1742-1755. doi:10.1016/j.neurobiolaging.2009.11.010. NIHMS164272.</li><li><a href=\"http://www2.bcs.rochester.edu/sites/rmc/Chapman2011_JCEN.pdf\">Chapman, R. M., Mapstone, M., McCrary, J. W., Gardner, M. N., Porsteinsson, A., DeGrush, E., Reilly, L. A., Sandoval, T. C., &amp; Guillily, M. D. (2011)</a>. Predicting conversion from mild cognitive impairment to Alzheimer's disease using neuropsychological tests and multivariate methods. Journal of Clinical and Experimental Neuropsychology, 33(2), 187-199. doi:10.1080/13803395.2010.499356. PMC3048956. NIHMS272826.</li><li><a href=\"http://www2.bcs.rochester.edu/sites/rmc/Chapman2010_JCEN.pdf\">Chapman, R. M., Mapstone, M., Porsteinsson, A. P., Gardner, M. N., McCrary, J. W., DeGrush, E., Reilly, L. A., Sandoval, T. C., &amp; Guillily, M. D. (2010)</a>. Diagnosis of Alzheimer's disease using neuropsychological testing improved by multivariate analyses. Journal of Clinical and Experimental Neuropsychology, 32(8), 793-808. doi:10.1080/13803390903540315. PMC2896992. NIHMS166518.</li><li><a href=\"http://www2.bcs.rochester.edu/sites/rmc/Chapman2010_OGMJ.pdf\">Chapman, R. M., Mapstone, M., McCrary, J. W., Gardner, M. N., Bachus, L. E., DeGrush, E., Reilly, L. A., Sandoval, T. C., &amp; Guillily, M. D. (2010)</a>. Cognitive dimensions in Alzheimer's disease, mild cognitive impairment, and normal elderly: Developing a common metric. The Open Geriatric Medicine Journal, 3, 1-10. doi:10.2174/1874827901003010001. PMC2922059. NIHMS188339.</li><li><a href=\"http://www2.bcs.rochester.edu/sites/rmc/Chapman2007_ERP.pdf\">Chapman, R.M., Nowlis, G.H., McCrary, J.W., Chapman, J.A., Sandoval, T.C., Guillily, M.D., Gardner, M.N., &amp; Reilly, L.A. (2007)</a>. Brain event-related potentials: Diagnosing early-stage Alzheimer's disease. <em>Neurobiology of Aging, 28</em>(2), 194-201.</li><li><a href=\"http://www2.bcs.rochester.edu/sites/rmc/behavioral_brain.pdf\">Chapman, R.M. (1999)</a>. Function and content words evoke different brain potentials. <em>Behavioral and Brain Sciences, 22,</em> 282-284.</li><li><a href=\"http://psychologypress.metapress.com/app/home/contribution.asp?wasp=n1dr7rf9bg2rnwd9aue3&amp;referrer=parent&amp;backto=issue,4,5;journal,21,31;linkingpublicationresults,1,1\">Silverstein, S.M., Bakshi, S., Chapman, R.M., &amp; Nowlis, G. (1998)</a>. Perceptual organization of configural and nonconfigural visual patterns in schizophrenia: Effects of repeated exposure. <em>Cognitive Neuropsychiatry, 3,</em> 209-223.</li><li><a href=\"http://www2.bcs.rochester.edu/sites/rmc/science.pdf\">Chapman, R.M., &amp; McCrary, J.W. (1995)</a>. EP component identification and measurement by principal components analysis. <em>Brain and Cognition, 27,</em> 288-310.</li><li>Chapman, R.M. (1992). EEG/MEG and alpha activity: Current status of biomagnetic research. In M. Hoke, et al. (Ed.), <em>Biomagnetism: Clinical Aspects.</em> Amsterdam: Elsevier Science Publishers, pp. 25-31.</li><li>Chapman, R.M (1989). The relative covariance method. In S.N. Erne and G.L. Romani (Eds.), <em>Advances in Biomagnetism. Functional Localization: A Challenge for Biomagnetism,</em> pp. 351-363. Singapore: World Scientific.</li><li>Chapman, R.M., Modena, I., Narici, L., Pizzella, V., Romani, G.L., McCrary, J.W., &amp; Garnsey, S. (1988). Electric and magnetic brain activity related to cognitive performance. In <em>Electric and Magnetic Activity of the Central Nervous System: Research and Clinical Applications in Aerospace Medicine,</em> 10.110.8. Paris: AGARD.</li><li><a href=\"http://www2.bcs.rochester.edu/sites/rmc/Chapman_et_al_1981.pdf\">Chapman, R.M., McCrary, J.W., &amp; Chapman, J.A. (1981)</a>. Memory processes and evoked potentials. <em>Canadian Journal of Psychology, 35,</em> 201-212.</li><li><a href=\"http://www2.bcs.rochester.edu/sites/rmc/Chapman_1980.pdf\">Chapman, R.M., McCrary, J.W., Chapman, J.A., &amp; Martin, J.K. (1980)</a>. Behavioral and neural analyses of connotative meaning: Word classes and rating scales. <em>Brain and Language, 11,</em> 319-339.</li><li><a href=\"http://www2.bcs.rochester.edu/sites/rmc/Chapman_1978.pdf\">Chapman, R.M., McCrary, J.W., Chapman, J.A., &amp; Bragdon, H.R. (1978)</a>, Brain responses related to semantic meaning. <em>Brain and Language, 5</em>, 195-205.</li></ul>]"
      ]
     },
     "execution_count": 15,
     "metadata": {},
     "output_type": "execute_result"
    }
   ],
   "source": [
    "soup.find_all('ul')"
   ]
  },
  {
   "cell_type": "code",
   "execution_count": null,
   "metadata": {
    "collapsed": true
   },
   "outputs": [],
   "source": []
  }
 ],
 "metadata": {
  "anaconda-cloud": {},
  "kernelspec": {
   "display_name": "Python [default]",
   "language": "python",
   "name": "python2"
  },
  "language_info": {
   "codemirror_mode": {
    "name": "ipython",
    "version": 2
   },
   "file_extension": ".py",
   "mimetype": "text/x-python",
   "name": "python",
   "nbconvert_exporter": "python",
   "pygments_lexer": "ipython2",
   "version": "2.7.12"
  }
 },
 "nbformat": 4,
 "nbformat_minor": 1
}
