{
 "cells": [
  {
   "cell_type": "code",
   "execution_count": 2,
   "metadata": {
    "collapsed": false
   },
   "outputs": [],
   "source": [
    "import numpy as np\n",
    "import scrapePM as spm\n",
    "from bs4 import BeautifulSoup\n",
    "import urllib\n",
    "import pandas\n",
    "import matplotlib.pyplot as plt\n",
    "%matplotlib inline"
   ]
  },
  {
   "cell_type": "code",
   "execution_count": 4,
   "metadata": {
    "collapsed": false
   },
   "outputs": [],
   "source": [
    "counts = pandas.read_csv('../data/term_counts_pubmed.csv')"
   ]
  },
  {
   "cell_type": "code",
   "execution_count": 5,
   "metadata": {
    "collapsed": false
   },
   "outputs": [],
   "source": [
    "def threshed_terms(counts, cat, thresh=0.001):\n",
    "    # return the thresholded list of terms for further processing\n",
    "    return [t for t in counts[counts[cat]/counts[cat][0]>=thresh][1:]['term']]        "
   ]
  },
  {
   "cell_type": "code",
   "execution_count": null,
   "metadata": {
    "collapsed": false
   },
   "outputs": [
    {
     "name": "stdout",
     "output_type": "stream",
     "text": [
      "action 1 / 175\n"
     ]
    }
   ],
   "source": [
    "# scrape neuro method pairs in pubmed\n",
    "neumet_list = threshed_terms(counts, 'neu_methods')\n",
    "base_phrase = ('AND('+\n",
    "                '(\"fmri\"OR\"neuroimaging\")OR'+\n",
    "                '(\"pet\"OR\"positron emission tomography\")OR'+\n",
    "                '(\"eeg\"OR\"electroencephalography\")OR'+\n",
    "                '(\"meg\"OR\"magnetoencephalography\")OR'+\n",
    "                '(\"ecog\"OR\"electrocorticography\")OR'+\n",
    "                '(\"lfp\"OR\"local field potential\")OR'+\n",
    "                '(\"erp\"OR\"event related potential\")OR'+\n",
    "                '(\"single unit\"OR\"single-unit\"OR\"single neuron\")OR'+\n",
    "                '(\"calcium imaging\")'\n",
    "                ')')\n",
    "\n",
    "neumet_pairs = spm.scrape_pairs(neumet_list, base_phrase=base_phrase, fieldkey='TIAB')"
   ]
  },
  {
   "cell_type": "code",
   "execution_count": null,
   "metadata": {
    "collapsed": true
   },
   "outputs": [],
   "source": [
    "# scrape general neuro pairs in pubmed\n",
    "neu_list = threshed_terms(counts, 'neu')\n",
    "base_phrase = 'AND(\"neural\"OR\"neuroscience\")'\n",
    "neu_pairs = spm.scrape_pairs(neu_list, base_phrase=base_phrase, fieldkey='TIAB')"
   ]
  },
  {
   "cell_type": "code",
   "execution_count": null,
   "metadata": {
    "collapsed": true
   },
   "outputs": [],
   "source": [
    "# scrape cog pairs in pubmed\n",
    "cog_list = threshed_terms(counts, 'cog')\n",
    "base_phrase = 'AND(\"cognitive\"OR\"cognition\")'\n",
    "cog_pairs = spm.scrape_pairs(cog_list, base_phrase=base_phrase, fieldkey='TIAB')"
   ]
  }
 ],
 "metadata": {
  "anaconda-cloud": {},
  "kernelspec": {
   "display_name": "Python [conda root]",
   "language": "python",
   "name": "conda-root-py"
  },
  "language_info": {
   "codemirror_mode": {
    "name": "ipython",
    "version": 2
   },
   "file_extension": ".py",
   "mimetype": "text/x-python",
   "name": "python",
   "nbconvert_exporter": "python",
   "pygments_lexer": "ipython2",
   "version": "2.7.12"
  }
 },
 "nbformat": 4,
 "nbformat_minor": 1
}
